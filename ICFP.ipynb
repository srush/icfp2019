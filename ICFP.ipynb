{
 "cells": [
  {
   "cell_type": "markdown",
   "metadata": {},
   "source": [
    "# Start "
   ]
  },
  {
   "cell_type": "code",
   "execution_count": 122,
   "metadata": {},
   "outputs": [],
   "source": [
    "import numpy as np\n",
    "import matplotlib.pyplot as plt"
   ]
  },
  {
   "cell_type": "markdown",
   "metadata": {},
   "source": [
    "## Parse"
   ]
  },
  {
   "cell_type": "code",
   "execution_count": 441,
   "metadata": {},
   "outputs": [],
   "source": [
    "start = \"(0,0),(6,0),(6,1),(8,1),(8,2),(6,2),(6,3),(0,3)#(0,0)##\"\n",
    "start2 = \"(14,34),(15,34),(15,32),(14,32),(14,31),(15,31),(15,30),(13,30),(13,31),(12,31),(12,30),(11,30),(11,29),(13,29),(13,28),(14,28),(14,29),(15,29),(15,23),(14,23),(14,26),(13,26),(13,23),(12,23),(12,27),(10,27),(10,30),(9,30),(9,29),(8,29),(8,28),(9,28),(9,27),(8,27),(8,26),(7,26),(7,25),(8,25),(8,23),(6,23),(6,27),(7,27),(7,28),(6,28),(6,31),(7,31),(7,30),(8,30),(8,31),(9,31),(9,32),(10,32),(10,33),(9,33),(9,34),(8,34),(8,35),(7,35),(7,34),(6,34),(6,35),(5,35),(5,36),(4,36),(4,35),(3,35),(3,37),(7,37),(7,38),(8,38),(8,39),(7,39),(7,40),(6,40),(6,41),(5,41),(5,40),(4,40),(4,38),(3,38),(3,39),(2,39),(2,41),(1,41),(1,42),(0,42),(0,40),(1,40),(1,39),(0,39),(0,36),(2,36),(2,35),(1,35),(1,34),(0,34),(0,33),(1,33),(1,32),(2,32),(2,31),(1,31),(1,30),(2,30),(2,29),(3,29),(3,32),(4,32),(4,28),(0,28),(0,27),(4,27),(4,25),(3,25),(3,24),(4,24),(4,23),(2,23),(2,26),(1,26),(1,25),(0,25),(0,24),(1,24),(1,23),(0,23),(0,20),(1,20),(1,19),(2,19),(2,20),(3,20),(3,17),(2,17),(2,18),(1,18),(1,17),(0,17),(0,16),(3,16),(3,15),(1,15),(1,13),(3,13),(3,11),(2,11),(2,12),(1,12),(1,11),(0,11),(0,10),(1,10),(1,8),(0,8),(0,7),(1,7),(1,6),(0,6),(0,5),(1,5),(1,3),(0,3),(0,2),(1,2),(1,0),(9,0),(9,2),(7,2),(7,4),(5,4),(5,6),(3,6),(3,8),(2,8),(2,10),(3,10),(3,9),(4,9),(4,8),(5,8),(5,9),(6,9),(6,15),(7,15),(7,9),(9,9),(9,8),(8,8),(8,7),(9,7),(9,6),(8,6),(8,5),(9,5),(9,4),(11,4),(11,2),(12,2),(12,1),(13,1),(13,3),(12,3),(12,4),(13,4),(13,5),(14,5),(14,6),(13,6),(13,7),(12,7),(12,8),(11,8),(11,7),(10,7),(10,9),(11,9),(11,10),(12,10),(12,11),(11,11),(11,12),(8,12),(8,13),(9,13),(9,14),(8,14),(8,15),(9,15),(9,16),(10,16),(10,17),(9,17),(9,18),(6,18),(6,19),(10,19),(10,20),(6,20),(6,21),(11,21),(11,20),(12,20),(12,21),(13,21),(13,19),(12,19),(12,18),(13,18),(13,15),(12,15),(12,17),(11,17),(11,14),(13,14),(13,13),(12,13),(12,12),(13,12),(13,9),(14,9),(14,21),(15,21),(15,10),(16,10),(16,8),(15,8),(15,7),(16,7),(16,6),(17,6),(17,7),(19,7),(19,8),(20,8),(20,9),(18,9),(18,8),(17,8),(17,10),(21,10),(21,12),(22,12),(22,13),(21,13),(21,14),(22,14),(22,15),(21,15),(21,16),(22,16),(22,17),(21,17),(21,18),(23,18),(23,16),(24,16),(24,15),(25,15),(25,17),(24,17),(24,18),(27,18),(27,16),(26,16),(26,15),(27,15),(27,14),(23,14),(23,10),(27,10),(27,9),(23,9),(23,8),(21,8),(21,6),(23,6),(23,4),(22,4),(22,5),(21,5),(21,4),(20,4),(20,3),(21,3),(21,2),(19,2),(19,5),(18,5),(18,4),(17,4),(17,5),(16,5),(16,4),(15,4),(15,3),(18,3),(18,2),(17,2),(17,1),(18,1),(18,0),(19,0),(19,1),(21,1),(21,0),(22,0),(22,3),(23,3),(23,2),(24,2),(24,0),(27,0),(27,1),(25,1),(25,2),(26,2),(26,5),(27,5),(27,3),(28,3),(28,2),(29,2),(29,3),(30,3),(30,4),(31,4),(31,5),(30,5),(30,6),(33,6),(33,4),(35,4),(35,6),(37,6),(37,4),(36,4),(36,3),(37,3),(37,2),(38,2),(38,3),(40,3),(40,1),(41,1),(41,0),(42,0),(42,1),(43,1),(43,2),(41,2),(41,3),(44,3),(44,5),(38,5),(38,6),(43,6),(43,9),(37,9),(37,11),(35,11),(35,9),(33,9),(33,10),(32,10),(32,9),(31,9),(31,12),(33,12),(33,14),(31,14),(31,15),(32,15),(32,16),(31,16),(31,18),(35,18),(35,17),(34,17),(34,16),(35,16),(35,15),(38,15),(38,16),(39,16),(39,17),(38,17),(38,18),(40,18),(40,14),(34,14),(34,12),(40,12),(40,11),(41,11),(41,16),(44,16),(44,17),(41,17),(41,18),(45,18),(45,14),(44,14),(44,15),(43,15),(43,14),(42,14),(42,11),(45,11),(45,10),(44,10),(44,9),(45,9),(45,8),(44,8),(44,7),(45,7),(45,6),(46,6),(46,5),(45,5),(45,4),(46,4),(46,3),(45,3),(45,2),(46,2),(46,1),(47,1),(47,0),(48,0),(48,1),(49,1),(49,4),(48,4),(48,6),(49,6),(49,21),(46,21),(46,22),(49,22),(49,25),(48,25),(48,26),(49,26),(49,27),(48,27),(48,28),(47,28),(47,25),(46,25),(46,29),(48,29),(48,31),(46,31),(46,32),(48,32),(48,34),(46,34),(46,35),(49,35),(49,36),(46,36),(46,37),(47,37),(47,38),(46,38),(46,39),(45,39),(45,41),(49,41),(49,44),(48,44),(48,45),(47,45),(47,44),(46,44),(46,42),(45,42),(45,43),(44,43),(44,42),(42,42),(42,40),(44,40),(44,39),(43,39),(43,36),(42,36),(42,37),(41,37),(41,36),(40,36),(40,33),(41,33),(41,32),(40,32),(40,31),(41,31),(41,29),(42,29),(42,33),(43,33),(43,27),(40,27),(40,26),(43,26),(43,25),(40,25),(40,24),(39,24),(39,25),(38,25),(38,22),(39,22),(39,23),(40,23),(40,22),(43,22),(43,21),(37,21),(37,26),(38,26),(38,27),(37,27),(37,31),(39,31),(39,34),(38,34),(38,32),(37,32),(37,35),(38,35),(38,36),(37,36),(37,40),(34,40),(34,34),(31,34),(31,31),(34,31),(34,26),(28,26),(28,24),(34,24),(34,22),(21,22),(21,23),(25,23),(25,27),(21,27),(21,32),(22,32),(22,33),(21,33),(21,34),(20,34),(20,38),(21,38),(21,39),(20,39),(20,40),(19,40),(19,44),(20,44),(20,43),(21,43),(21,46),(20,46),(20,45),(19,45),(19,47),(23,47),(23,48),(19,48),(19,49),(16,49),(16,44),(10,44),(10,47),(9,47),(9,44),(4,44),(4,45),(6,45),(6,46),(3,46),(3,44),(2,44),(2,42),(8,42),(8,40),(9,40),(9,39),(10,39),(10,41),(9,41),(9,42),(12,42),(12,41),(11,41),(11,40),(12,40),(12,39),(13,39),(13,42),(16,42),(16,40),(14,40),(14,36),(10,36),(10,35),(14,35)#(0,2)##X(22,25);L(17,31);F(29,8);F(42,23);F(33,7);B(18,21);B(16,26)\""
   ]
  },
  {
   "cell_type": "code",
   "execution_count": 442,
   "metadata": {},
   "outputs": [],
   "source": [
    "def read(s):\n",
    "    contour, robot, obstacles, boosters = s.split(\"#\")\n",
    "    def parse_point(s):\n",
    "        return np.array([int(q) for q in s.strip(\"()\").split(\",\")])\n",
    "    def parse_map(m):\n",
    "        \n",
    "        contour = [int(s.strip(\"()\")) for s in m.split(\",\")]\n",
    "        contours = []\n",
    "        for i in range(0, len(contour), 2):\n",
    "            contours.append((contour[i], contour[i+1]))\n",
    "        contours.append(contours[0])\n",
    "        return np.array(contours)\n",
    "    \n",
    "    robot = parse_point(robot)\n",
    "    contours = parse_map(contour)\n",
    "   \n",
    "    os = []\n",
    "    for o in obstacles.split(\";\"):\n",
    "        if o.strip():\n",
    "            os.append(parse_map(o))\n",
    "    bs = []\n",
    "    bs_type = []\n",
    "    for o in boosters.split(\";\"):\n",
    "        if o.strip():\n",
    "            l, point = o[0], o[1:]\n",
    "            bs.append(parse_point(point))\n",
    "            bs_type.append(l)\n",
    "    return  contours, robot, os, np.array(bs), bs_type"
   ]
  },
  {
   "cell_type": "code",
   "execution_count": 443,
   "metadata": {},
   "outputs": [],
   "source": [
    "contours, robot, obstacles, boosters, b_types = read(start)"
   ]
  },
  {
   "cell_type": "code",
   "execution_count": 444,
   "metadata": {},
   "outputs": [
    {
     "data": {
      "text/plain": [
       "([], array([], dtype=float64))"
      ]
     },
     "execution_count": 444,
     "metadata": {},
     "output_type": "execute_result"
    }
   ],
   "source": [
    "obstacles, boosters"
   ]
  },
  {
   "cell_type": "code",
   "execution_count": 445,
   "metadata": {},
   "outputs": [
    {
     "data": {
      "text/plain": [
       "array([[0, 0],\n",
       "       [6, 0],\n",
       "       [6, 1],\n",
       "       [8, 1],\n",
       "       [8, 2],\n",
       "       [6, 2],\n",
       "       [6, 3],\n",
       "       [0, 3],\n",
       "       [0, 0]])"
      ]
     },
     "execution_count": 445,
     "metadata": {},
     "output_type": "execute_result"
    }
   ],
   "source": [
    "contours"
   ]
  },
  {
   "cell_type": "code",
   "execution_count": 449,
   "metadata": {},
   "outputs": [],
   "source": [
    "def make_map(contours, robot, obstacles, boosters):\n",
    "    max_dim = np.vstack([contours] + obstacles  + [robot]).max(axis=0)\n",
    "    base = np.zeros(max_dim + 1)\n",
    "    base.fill(1)\n",
    "    constraints = rectilinear(contours)\n",
    "    for c in contours:\n",
    "        fill(base, constraints, 0)\n",
    "        #base[c[0], c[1]] = 1\n",
    "    for obs in obstacles:\n",
    "        for c in obs:\n",
    "            base[c[0], c[1]] = 2\n",
    "    #for c in boosters:\n",
    "    #    base[c[0], c[1]] = 3\n",
    "    #base[robot[0], robot[1]] = 4\n",
    "    return base"
   ]
  },
  {
   "cell_type": "code",
   "execution_count": 450,
   "metadata": {},
   "outputs": [
    {
     "name": "stdout",
     "output_type": "stream",
     "text": [
      "6 0 True (0, 6, 0, 1, False)\n",
      "7 0 True (0, 6, 0, 1, False)\n",
      "8 0 True (0, 6, 0, 1, False)\n",
      "8 1 True (0, 8, 1, 2, False)\n",
      "8 2 True (0, 6, 2, 3, False)\n",
      "6 0 True (0, 6, 0, 1, False)\n",
      "7 0 True (0, 6, 0, 1, False)\n",
      "8 0 True (0, 6, 0, 1, False)\n",
      "8 1 True (0, 8, 1, 2, False)\n",
      "8 2 True (0, 6, 2, 3, False)\n",
      "6 0 True (0, 6, 0, 1, False)\n",
      "7 0 True (0, 6, 0, 1, False)\n",
      "8 0 True (0, 6, 0, 1, False)\n",
      "8 1 True (0, 8, 1, 2, False)\n",
      "8 2 True (0, 6, 2, 3, False)\n",
      "6 0 True (0, 6, 0, 1, False)\n",
      "7 0 True (0, 6, 0, 1, False)\n",
      "8 0 True (0, 6, 0, 1, False)\n",
      "8 1 True (0, 8, 1, 2, False)\n",
      "8 2 True (0, 6, 2, 3, False)\n",
      "6 0 True (0, 6, 0, 1, False)\n",
      "7 0 True (0, 6, 0, 1, False)\n",
      "8 0 True (0, 6, 0, 1, False)\n",
      "8 1 True (0, 8, 1, 2, False)\n",
      "8 2 True (0, 6, 2, 3, False)\n",
      "6 0 True (0, 6, 0, 1, False)\n",
      "7 0 True (0, 6, 0, 1, False)\n",
      "8 0 True (0, 6, 0, 1, False)\n",
      "8 1 True (0, 8, 1, 2, False)\n",
      "8 2 True (0, 6, 2, 3, False)\n",
      "6 0 True (0, 6, 0, 1, False)\n",
      "7 0 True (0, 6, 0, 1, False)\n",
      "8 0 True (0, 6, 0, 1, False)\n",
      "8 1 True (0, 8, 1, 2, False)\n",
      "8 2 True (0, 6, 2, 3, False)\n",
      "6 0 True (0, 6, 0, 1, False)\n",
      "7 0 True (0, 6, 0, 1, False)\n",
      "8 0 True (0, 6, 0, 1, False)\n",
      "8 1 True (0, 8, 1, 2, False)\n",
      "8 2 True (0, 6, 2, 3, False)\n",
      "6 0 True (0, 6, 0, 1, False)\n",
      "7 0 True (0, 6, 0, 1, False)\n",
      "8 0 True (0, 6, 0, 1, False)\n",
      "8 1 True (0, 8, 1, 2, False)\n",
      "8 2 True (0, 6, 2, 3, False)\n"
     ]
    }
   ],
   "source": [
    "base = make_map(contours, robot, obstacles, boosters)\n",
    "s = State(robot, 0, np.array([[1,0], [1, 1], [1, -1]]), Map(base),\n",
    "      boosters, np.zeros(base.shape), ())"
   ]
  },
  {
   "cell_type": "code",
   "execution_count": 477,
   "metadata": {},
   "outputs": [
    {
     "name": "stdout",
     "output_type": "stream",
     "text": [
      "W\n",
      "('W',)\n"
     ]
    },
    {
     "data": {
      "image/png": "[encoded data removed]",
      "text/plain": [
       "<Figure size 432x288 with 1 Axes>"
      ]
     },
     "metadata": {},
     "output_type": "display_data"
    },
    {
     "name": "stdout",
     "output_type": "stream",
     "text": [
      "E\n",
      "('W', 'E')\n"
     ]
    },
    {
     "data": {
      "image/png": "[encoded data removed]",
      "text/plain": [
       "<Figure size 432x288 with 1 Axes>"
      ]
     },
     "metadata": {},
     "output_type": "display_data"
    },
    {
     "name": "stdout",
     "output_type": "stream",
     "text": [
      "E\n",
      "('W', 'E', 'E')\n"
     ]
    },
    {
     "data": {
      "image/png": "[encoded data removed]",
      "text/plain": [
       "<Figure size 432x288 with 1 Axes>"
      ]
     },
     "metadata": {},
     "output_type": "display_data"
    },
    {
     "name": "stdout",
     "output_type": "stream",
     "text": [
      "E\n",
      "('W', 'E', 'E', 'E')\n"
     ]
    },
    {
     "data": {
      "image/png": "[encoded data removed]",
      "text/plain": [
       "<Figure size 432x288 with 1 Axes>"
      ]
     },
     "metadata": {},
     "output_type": "display_data"
    },
    {
     "ename": "KeyboardInterrupt",
     "evalue": "",
     "output_type": "error",
     "traceback": [
      "\u001b[0;31m---------------------------------------------------------------------------\u001b[0m",
      "\u001b[0;31mKeyboardInterrupt\u001b[0m                         Traceback (most recent call last)",
      "\u001b[0;32m~/.local/lib/python3.6/site-packages/ipykernel/kernelbase.py\u001b[0m in \u001b[0;36m_input_request\u001b[0;34m(self, prompt, ident, parent, password)\u001b[0m\n\u001b[1;32m    728\u001b[0m             \u001b[0;32mtry\u001b[0m\u001b[0;34m:\u001b[0m\u001b[0;34m\u001b[0m\u001b[0;34m\u001b[0m\u001b[0m\n\u001b[0;32m--> 729\u001b[0;31m                 \u001b[0mident\u001b[0m\u001b[0;34m,\u001b[0m \u001b[0mreply\u001b[0m \u001b[0;34m=\u001b[0m \u001b[0mself\u001b[0m\u001b[0;34m.\u001b[0m\u001b[0msession\u001b[0m\u001b[0;34m.\u001b[0m\u001b[0mrecv\u001b[0m\u001b[0;34m(\u001b[0m\u001b[0mself\u001b[0m\u001b[0;34m.\u001b[0m\u001b[0mstdin_socket\u001b[0m\u001b[0;34m,\u001b[0m \u001b[0;36m0\u001b[0m\u001b[0;34m)\u001b[0m\u001b[0;34m\u001b[0m\u001b[0;34m\u001b[0m\u001b[0m\n\u001b[0m\u001b[1;32m    730\u001b[0m             \u001b[0;32mexcept\u001b[0m \u001b[0mException\u001b[0m\u001b[0;34m:\u001b[0m\u001b[0;34m\u001b[0m\u001b[0;34m\u001b[0m\u001b[0m\n",
      "\u001b[0;32m~/.local/lib/python3.6/site-packages/jupyter_client/session.py\u001b[0m in \u001b[0;36mrecv\u001b[0;34m(self, socket, mode, content, copy)\u001b[0m\n\u001b[1;32m    802\u001b[0m         \u001b[0;32mtry\u001b[0m\u001b[0;34m:\u001b[0m\u001b[0;34m\u001b[0m\u001b[0;34m\u001b[0m\u001b[0m\n\u001b[0;32m--> 803\u001b[0;31m             \u001b[0mmsg_list\u001b[0m \u001b[0;34m=\u001b[0m \u001b[0msocket\u001b[0m\u001b[0;34m.\u001b[0m\u001b[0mrecv_multipart\u001b[0m\u001b[0;34m(\u001b[0m\u001b[0mmode\u001b[0m\u001b[0;34m,\u001b[0m \u001b[0mcopy\u001b[0m\u001b[0;34m=\u001b[0m\u001b[0mcopy\u001b[0m\u001b[0;34m)\u001b[0m\u001b[0;34m\u001b[0m\u001b[0;34m\u001b[0m\u001b[0m\n\u001b[0m\u001b[1;32m    804\u001b[0m         \u001b[0;32mexcept\u001b[0m \u001b[0mzmq\u001b[0m\u001b[0;34m.\u001b[0m\u001b[0mZMQError\u001b[0m \u001b[0;32mas\u001b[0m \u001b[0me\u001b[0m\u001b[0;34m:\u001b[0m\u001b[0;34m\u001b[0m\u001b[0;34m\u001b[0m\u001b[0m\n",
      "\u001b[0;32m~/.local/lib/python3.6/site-packages/zmq/sugar/socket.py\u001b[0m in \u001b[0;36mrecv_multipart\u001b[0;34m(self, flags, copy, track)\u001b[0m\n\u001b[1;32m    466\u001b[0m         \"\"\"\n\u001b[0;32m--> 467\u001b[0;31m         \u001b[0mparts\u001b[0m \u001b[0;34m=\u001b[0m \u001b[0;34m[\u001b[0m\u001b[0mself\u001b[0m\u001b[0;34m.\u001b[0m\u001b[0mrecv\u001b[0m\u001b[0;34m(\u001b[0m\u001b[0mflags\u001b[0m\u001b[0;34m,\u001b[0m \u001b[0mcopy\u001b[0m\u001b[0;34m=\u001b[0m\u001b[0mcopy\u001b[0m\u001b[0;34m,\u001b[0m \u001b[0mtrack\u001b[0m\u001b[0;34m=\u001b[0m\u001b[0mtrack\u001b[0m\u001b[0;34m)\u001b[0m\u001b[0;34m]\u001b[0m\u001b[0;34m\u001b[0m\u001b[0;34m\u001b[0m\u001b[0m\n\u001b[0m\u001b[1;32m    468\u001b[0m         \u001b[0;31m# have first part already, only loop while more to receive\u001b[0m\u001b[0;34m\u001b[0m\u001b[0;34m\u001b[0m\u001b[0;34m\u001b[0m\u001b[0m\n",
      "\u001b[0;32mzmq/backend/cython/socket.pyx\u001b[0m in \u001b[0;36mzmq.backend.cython.socket.Socket.recv\u001b[0;34m()\u001b[0m\n",
      "\u001b[0;32mzmq/backend/cython/socket.pyx\u001b[0m in \u001b[0;36mzmq.backend.cython.socket.Socket.recv\u001b[0;34m()\u001b[0m\n",
      "\u001b[0;32mzmq/backend/cython/socket.pyx\u001b[0m in \u001b[0;36mzmq.backend.cython.socket._recv_copy\u001b[0;34m()\u001b[0m\n",
      "\u001b[0;32m~/.local/lib/python3.6/site-packages/zmq/backend/cython/checkrc.pxd\u001b[0m in \u001b[0;36mzmq.backend.cython.checkrc._check_rc\u001b[0;34m()\u001b[0m\n",
      "\u001b[0;31mKeyboardInterrupt\u001b[0m: ",
      "\nDuring handling of the above exception, another exception occurred:\n",
      "\u001b[0;31mKeyboardInterrupt\u001b[0m                         Traceback (most recent call last)",
      "\u001b[0;32m<ipython-input-477-d47c67a5bd1a>\u001b[0m in \u001b[0;36m<module>\u001b[0;34m()\u001b[0m\n\u001b[1;32m      1\u001b[0m \u001b[0;32mwhile\u001b[0m \u001b[0;32mTrue\u001b[0m\u001b[0;34m:\u001b[0m\u001b[0;34m\u001b[0m\u001b[0;34m\u001b[0m\u001b[0m\n\u001b[0;32m----> 2\u001b[0;31m     \u001b[0mx\u001b[0m \u001b[0;34m=\u001b[0m \u001b[0minput\u001b[0m\u001b[0;34m(\u001b[0m\u001b[0;34m)\u001b[0m\u001b[0;34m.\u001b[0m\u001b[0mstrip\u001b[0m\u001b[0;34m(\u001b[0m\u001b[0;34m)\u001b[0m\u001b[0;34m\u001b[0m\u001b[0;34m\u001b[0m\u001b[0m\n\u001b[0m\u001b[1;32m      3\u001b[0m     \u001b[0;32mif\u001b[0m \u001b[0mx\u001b[0m \u001b[0;34m==\u001b[0m \u001b[0;34m\"X\"\u001b[0m\u001b[0;34m:\u001b[0m\u001b[0;34m\u001b[0m\u001b[0;34m\u001b[0m\u001b[0m\n\u001b[1;32m      4\u001b[0m         \u001b[0;32mbreak\u001b[0m\u001b[0;34m\u001b[0m\u001b[0;34m\u001b[0m\u001b[0m\n\u001b[1;32m      5\u001b[0m     \u001b[0;32melse\u001b[0m\u001b[0;34m:\u001b[0m\u001b[0;34m\u001b[0m\u001b[0;34m\u001b[0m\u001b[0m\n",
      "\u001b[0;32m~/.local/lib/python3.6/site-packages/ipykernel/kernelbase.py\u001b[0m in \u001b[0;36mraw_input\u001b[0;34m(self, prompt)\u001b[0m\n\u001b[1;32m    702\u001b[0m             \u001b[0mself\u001b[0m\u001b[0;34m.\u001b[0m\u001b[0m_parent_ident\u001b[0m\u001b[0;34m,\u001b[0m\u001b[0;34m\u001b[0m\u001b[0;34m\u001b[0m\u001b[0m\n\u001b[1;32m    703\u001b[0m             \u001b[0mself\u001b[0m\u001b[0;34m.\u001b[0m\u001b[0m_parent_header\u001b[0m\u001b[0;34m,\u001b[0m\u001b[0;34m\u001b[0m\u001b[0;34m\u001b[0m\u001b[0m\n\u001b[0;32m--> 704\u001b[0;31m             \u001b[0mpassword\u001b[0m\u001b[0;34m=\u001b[0m\u001b[0;32mFalse\u001b[0m\u001b[0;34m,\u001b[0m\u001b[0;34m\u001b[0m\u001b[0;34m\u001b[0m\u001b[0m\n\u001b[0m\u001b[1;32m    705\u001b[0m         )\n\u001b[1;32m    706\u001b[0m \u001b[0;34m\u001b[0m\u001b[0m\n",
      "\u001b[0;32m~/.local/lib/python3.6/site-packages/ipykernel/kernelbase.py\u001b[0m in \u001b[0;36m_input_request\u001b[0;34m(self, prompt, ident, parent, password)\u001b[0m\n\u001b[1;32m    732\u001b[0m             \u001b[0;32mexcept\u001b[0m \u001b[0mKeyboardInterrupt\u001b[0m\u001b[0;34m:\u001b[0m\u001b[0;34m\u001b[0m\u001b[0;34m\u001b[0m\u001b[0m\n\u001b[1;32m    733\u001b[0m                 \u001b[0;31m# re-raise KeyboardInterrupt, to truncate traceback\u001b[0m\u001b[0;34m\u001b[0m\u001b[0;34m\u001b[0m\u001b[0;34m\u001b[0m\u001b[0m\n\u001b[0;32m--> 734\u001b[0;31m                 \u001b[0;32mraise\u001b[0m \u001b[0mKeyboardInterrupt\u001b[0m\u001b[0;34m\u001b[0m\u001b[0;34m\u001b[0m\u001b[0m\n\u001b[0m\u001b[1;32m    735\u001b[0m             \u001b[0;32melse\u001b[0m\u001b[0;34m:\u001b[0m\u001b[0;34m\u001b[0m\u001b[0;34m\u001b[0m\u001b[0m\n\u001b[1;32m    736\u001b[0m                 \u001b[0;32mbreak\u001b[0m\u001b[0;34m\u001b[0m\u001b[0;34m\u001b[0m\u001b[0m\n",
      "\u001b[0;31mKeyboardInterrupt\u001b[0m: "
     ]
    }
   ],
   "source": [
    "while True:\n",
    "    x = input().strip()\n",
    "    if x == \"X\":\n",
    "        break\n",
    "    else:\n",
    "        v, s = s.move(x)\n",
    "        s.draw()\n",
    "        plt.show()"
   ]
  },
  {
   "cell_type": "code",
   "execution_count": 238,
   "metadata": {},
   "outputs": [],
   "source": [
    "!mkdir outputs"
   ]
  },
  {
   "cell_type": "code",
   "execution_count": 239,
   "metadata": {},
   "outputs": [
    {
     "data": {
      "text/plain": [
       "12"
      ]
     },
     "execution_count": 239,
     "metadata": {},
     "output_type": "execute_result"
    }
   ],
   "source": [
    "open(\"outputs/test.sol\",\"w\").write(\"\".join(s.actions) )"
   ]
  },
  {
   "cell_type": "code",
   "execution_count": 236,
   "metadata": {},
   "outputs": [
    {
     "name": "stdout",
     "output_type": "stream",
     "text": [
      "WWEQQDDDDDEE"
     ]
    }
   ],
   "source": [
    "!head test.desc"
   ]
  },
  {
   "cell_type": "markdown",
   "metadata": {},
   "source": [
    "## Run\n"
   ]
  },
  {
   "cell_type": "code",
   "execution_count": null,
   "metadata": {},
   "outputs": [],
   "source": [
    "class Map:\n",
    "    def __init__(self, m):\n",
    "        self.m = m\n",
    "    \n",
    "    def check(self, robot):\n",
    "        if robot[0] < 0 or robot[1] < 0:\n",
    "            return False\n",
    "        if self.m[robot[0], robot[1]] == 1:\n",
    "            return False\n",
    "        return True"
   ]
  },
  {
   "cell_type": "code",
   "execution_count": 471,
   "metadata": {},
   "outputs": [],
   "source": [
    "class State:\n",
    "    def __init__(self, loc, orientation, manip, curmap, boosters, coverage, actions):\n",
    "        self.loc = loc\n",
    "        self.orient = orientation % 4\n",
    "        self.curmap = curmap\n",
    "        self.boosters = boosters\n",
    "        self.coverage = coverage\n",
    "        self.actions = actions\n",
    "        self.manip = manip\n",
    "    \n",
    "    def hash(self):\n",
    "        return hash((self.orient, self.loc[0], self.loc[1], self.coverage.sum()))\n",
    "    \n",
    "    def score(self):\n",
    "        return self.coverage.sum()\n",
    "    \n",
    "    def move(self, a):\n",
    "        # check up\n",
    "        loc = self.loc\n",
    "        orient = self.orient\n",
    "        if a == \"W\":\n",
    "            loc = self.loc + np.array([0, 1])\n",
    "        if a == \"A\": \n",
    "            loc = self.loc + np.array([-1, 0])\n",
    "        if a == \"D\":\n",
    "            loc = self.loc + np.array([1, 0])\n",
    "        if a == \"S\":\n",
    "            loc = self.loc + np.array([0, -1])\n",
    "        if a == \"E\":\n",
    "            orient = self.orient + 1\n",
    "        if a == \"Q\":\n",
    "            orient = self.orient - 1\n",
    "        if not self.curmap.check(loc):\n",
    "            return False, self\n",
    "        else:\n",
    "            coverage = np.array(self.coverage)\n",
    "            robot = loc\n",
    "            pos = []\n",
    "            for m in self.manip:\n",
    "                if orient == 0:\n",
    "                    pos.append(( robot[0] + m[0], robot[1] + m[1] ) )\n",
    "                if orient == 1:\n",
    "                    pos.append((robot[0] + m[1], robot[1] - m[0] ) )\n",
    "                if orient == 2:\n",
    "                    pos.append((robot[0] - m[0], robot[1] - m[1]))\n",
    "                if orient == 3:\n",
    "                    pos.append((robot[0] - m[1], robot[1] + m[0]))\n",
    "            for p in pos:\n",
    "                if self.curmap.check(p):\n",
    "                    coverage[p] = 1\n",
    "\n",
    "            return True, State(loc, orient, self.manip, self.curmap,\n",
    "                               self.boosters, coverage,\n",
    "                               self.actions + (a,))\n",
    "    def draw(self):\n",
    "        fill = np.array(self.curmap.m + 10*self.coverage)\n",
    "        \n",
    "        if self.boosters.shape[0] > 0:\n",
    "            for c in self.boosters:\n",
    "               fill[c[0], c[1]] = 3\n",
    "        fill[self.loc[0], self.loc[1]] = 4\n",
    "        print(self.actions)\n",
    "        plt.imshow(fill.T, origin='lower')"
   ]
  },
  {
   "cell_type": "markdown",
   "metadata": {},
   "source": [
    "# Search"
   ]
  },
  {
   "cell_type": "code",
   "execution_count": 479,
   "metadata": {},
   "outputs": [],
   "source": [
    "class Search:\n",
    "    def __init__(self, init):\n",
    "        self.init = init\n",
    "        self.seen = set()\n",
    "        self.best = None \n",
    "        \n",
    "    def actions(self):\n",
    "        return [\"W\", \"S\", \"A\", \"D\", \"Z\", \"E\", \"Q\", \n",
    "                # Fancy\n",
    "                \"F\", \"L\" \"B\"]\n",
    "    \n",
    "    def search(self, max_steps=100000):\n",
    "        stack = [self.init]\n",
    "        self.best = self.init\n",
    "        steps = 0\n",
    "        while stack:\n",
    "            steps += 1\n",
    "            if steps == max_steps: break\n",
    "            cur = stack[0]\n",
    "            stack = stack[1:]\n",
    "            for act in self.actions():\n",
    "                valid, n = cur.move(act)\n",
    "                if valid and n.hash() not in self.seen: \n",
    "                    stack.append(n)\n",
    "                self.seen.add(cur.hash())\n",
    "                if cur.score() > self.best.score():\n",
    "                    self.best = cur"
   ]
  },
  {
   "cell_type": "code",
   "execution_count": 480,
   "metadata": {},
   "outputs": [],
   "source": [
    "s = State(robot, 0, np.array([[1,0], [1, 1], [1, -1]]), Map(base),\n",
    "      boosters, np.zeros(base.shape), ())\n",
    "searcher = Search(s)\n",
    "searcher.search()"
   ]
  },
  {
   "cell_type": "code",
   "execution_count": 481,
   "metadata": {},
   "outputs": [
    {
     "name": "stdout",
     "output_type": "stream",
     "text": [
      "('W', 'D', 'E', 'E', 'D', 'D', 'D', 'D', 'D', 'Q', 'Q', 'A')\n"
     ]
    },
    {
     "data": {
      "image/png": "[encoded data removed]",
      "text/plain": [
       "<Figure size 432x288 with 1 Axes>"
      ]
     },
     "metadata": {},
     "output_type": "display_data"
    }
   ],
   "source": [
    "searcher.best.draw()"
   ]
  },
  {
   "cell_type": "code",
   "execution_count": 484,
   "metadata": {},
   "outputs": [
    {
     "data": {
      "text/plain": [
       "12"
      ]
     },
     "execution_count": 484,
     "metadata": {},
     "output_type": "execute_result"
    }
   ],
   "source": [
    "open(\"outputs/task1.sol\", \"w\").write(\"\".join(searcher.best.actions))"
   ]
  },
  {
   "cell_type": "code",
   "execution_count": 485,
   "metadata": {},
   "outputs": [
    {
     "name": "stdout",
     "output_type": "stream",
     "text": [
      "WDEEDDDDDQQA"
     ]
    }
   ],
   "source": [
    "!head outputs/task1.sol"
   ]
  },
  {
   "cell_type": "markdown",
   "metadata": {},
   "source": [
    "## Check"
   ]
  },
  {
   "cell_type": "code",
   "execution_count": 440,
   "metadata": {},
   "outputs": [],
   "source": [
    "def rectilinear(pts):\n",
    "    fst = 0\n",
    "    last = pts[0]\n",
    "    last_turn = \"right\"\n",
    "    last_d = \"north\"\n",
    "    polarity = True\n",
    "    \n",
    "    constraints = []\n",
    "    for i, p in enumerate(pts[1:], 1):\n",
    "        def turn(d):\n",
    "            last_turn = None\n",
    "            if (last_d, d) == (\"north\", \"east\"):\n",
    "                last_turn = \"right\" \n",
    "            if (last_d, d) == (\"north\", \"west\"):\n",
    "                last_turn = \"left\" \n",
    "            if (last_d, d) == (\"south\", \"east\"):\n",
    "                last_turn = \"left\" \n",
    "            if (last_d, d) == (\"south\", \"west\"):\n",
    "                last_turn = \"right\" \n",
    "            if (last_d, d) == (\"east\", \"north\"):\n",
    "                last_turn = \"left\" \n",
    "            if (last_d, d) == (\"west\", \"north\"):\n",
    "                last_turn = \"right\" \n",
    "            if (last_d, d) == (\"east\", \"south\"):\n",
    "                last_turn = \"right\" \n",
    "            if (last_d, d) == (\"west\", \"south\"):\n",
    "                last_turn = \"left\" \n",
    "            return last_turn\n",
    "        if last[1] == p[1]:\n",
    "            range_ = (p[0], last[0])\n",
    "            start = min(range_)\n",
    "            end = max(range_)\n",
    "            if start == p[0]:\n",
    "                d = \"west\"\n",
    "            else:\n",
    "                d = \"east\"\n",
    "            #pos = turn(d) == \"right\" or d == \"west\"\n",
    "            if turn(d) == \"right\": polarity = not polarity\n",
    "            pos =  not (d ==\"west\") #if polarity else not (d==\"west\")\n",
    "        \n",
    "            constraints.append((1, p[1], start, end, pos) )\n",
    "            \n",
    "        if last[0] == p[0]:\n",
    "            range_ = (p[1], last[1])\n",
    "            start = min(range_)\n",
    "            end = max(range_)\n",
    "            if start == p[1]:\n",
    "                d = \"south\"\n",
    "            else:\n",
    "                d = \"north\"\n",
    "            if turn(d) == \"right\": polarity = not polarity\n",
    "            pos =  not (d ==\"north\") #if polarity else not (d==\"north\")\n",
    "\n",
    "            constraints.append((0, p[0], start, end, pos) )\n",
    "        last_turn = turn(d)\n",
    "        #print(last_turn, constraints[-1])\n",
    "        last = p\n",
    "        last_d = d\n",
    "    return constraints"
   ]
  },
  {
   "cell_type": "code",
   "execution_count": 409,
   "metadata": {},
   "outputs": [
    {
     "name": "stdout",
     "output_type": "stream",
     "text": [
      "right (1, 0, 0, 10, True)\n",
      "left (0, 10, 0, 10, False)\n",
      "right (1, 10, 10, 20, True)\n",
      "left (0, 20, 10, 20, False)\n",
      "left (1, 20, 15, 20, False)\n",
      "left (0, 15, 15, 20, True)\n",
      "right (1, 15, 0, 15, False)\n"
     ]
    }
   ],
   "source": [
    "constraints = rectilinear([(0, 0), (10, 0), (10, 10), (20, 10), (20, 20), (15, 20), (15, 15), (0, 15)])"
   ]
  },
  {
   "cell_type": "code",
   "execution_count": 385,
   "metadata": {},
   "outputs": [
    {
     "data": {
      "text/plain": [
       "[(1, 0, 0, 10, True),\n",
       " (0, 10, 0, 10, False),\n",
       " (1, 10, 5, 10, False),\n",
       " (0, 5, 10, 20, False),\n",
       " (1, 20, 0, 5, False),\n",
       " (0, 0, 0, 20, True)]"
      ]
     },
     "execution_count": 385,
     "metadata": {},
     "output_type": "execute_result"
    }
   ],
   "source": [
    "constraints"
   ]
  },
  {
   "cell_type": "code",
   "execution_count": 439,
   "metadata": {},
   "outputs": [],
   "source": [
    "def fill(f, constraints, v):\n",
    "                #pos =  (d ==\"north\") if polarity else not (d==\"north\")\n",
    "    for i in range(f.shape[0]):\n",
    "        for j in range(f.shape[1]):\n",
    "            fail = False\n",
    "            hit = False\n",
    "            for c in constraints:\n",
    "                if c[0] == 0:\n",
    "                    if not c[2] <= j < c[3]: \n",
    "                        continue\n",
    "                    hit = True\n",
    "                    if not (i >= c[1]) == c[-1]:\n",
    "                        print(i, j, i>= c[1], c)\n",
    "                        fail = True\n",
    "                elif c[0] == 1:\n",
    "                    if not c[2] <= i < c[3]:\n",
    "                        continue\n",
    "                    hit = True\n",
    "                    if not (j >= c[1]) == c[-1]:\n",
    "                        \n",
    "                        fail = True\n",
    "                if fail: break\n",
    "            if not fail and hit:\n",
    "                f[i,j] = v\n",
    "    return f"
   ]
  },
  {
   "cell_type": "code",
   "execution_count": 437,
   "metadata": {},
   "outputs": [
    {
     "name": "stdout",
     "output_type": "stream",
     "text": [
      "right (1, 0, 0, 6, True)\n",
      "left (0, 6, 0, 1, False)\n",
      "right (1, 1, 6, 8, True)\n",
      "left (0, 8, 1, 2, False)\n",
      "left (1, 2, 6, 8, False)\n",
      "right (0, 6, 2, 3, False)\n",
      "left (1, 3, 0, 6, False)\n",
      "left (0, 0, 0, 3, True)\n"
     ]
    },
    {
     "data": {
      "text/plain": [
       "[(1, 0, 0, 6, True),\n",
       " (0, 6, 0, 1, False),\n",
       " (1, 1, 6, 8, True),\n",
       " (0, 8, 1, 2, False),\n",
       " (1, 2, 6, 8, False),\n",
       " (0, 6, 2, 3, False),\n",
       " (1, 3, 0, 6, False),\n",
       " (0, 0, 0, 3, True)]"
      ]
     },
     "execution_count": 437,
     "metadata": {},
     "output_type": "execute_result"
    }
   ],
   "source": [
    "rectilinear(contours)"
   ]
  },
  {
   "cell_type": "code",
   "execution_count": 438,
   "metadata": {},
   "outputs": [
    {
     "name": "stdout",
     "output_type": "stream",
     "text": [
      "right (1, 0, 0, 6, True)\n",
      "left (0, 6, 0, 1, False)\n",
      "right (1, 1, 6, 8, True)\n",
      "left (0, 8, 1, 2, False)\n",
      "left (1, 2, 6, 8, False)\n",
      "right (0, 6, 2, 3, False)\n",
      "left (1, 3, 0, 6, False)\n",
      "left (0, 0, 0, 3, True)\n",
      "6 0 True (0, 6, 0, 1, False)\n",
      "7 0 True (0, 6, 0, 1, False)\n",
      "8 0 True (0, 6, 0, 1, False)\n",
      "8 1 True (0, 8, 1, 2, False)\n",
      "8 2 True (0, 6, 2, 3, False)\n",
      "9 0 True (0, 6, 0, 1, False)\n",
      "9 1 True (0, 8, 1, 2, False)\n",
      "9 2 True (0, 6, 2, 3, False)\n"
     ]
    },
    {
     "data": {
      "text/plain": [
       "<matplotlib.image.AxesImage at 0x7f150dbb1748>"
      ]
     },
     "execution_count": 438,
     "metadata": {},
     "output_type": "execute_result"
    },
    {
     "data": {
      "image/png": "[encoded data removed]",
      "text/plain": [
       "<Figure size 432x288 with 1 Axes>"
      ]
     },
     "metadata": {},
     "output_type": "display_data"
    }
   ],
   "source": [
    "plt.imshow(fill(np.zeros((10, 10) ), rectilinear(contours), 1), origin=\"lower\")"
   ]
  }
 ],
 "metadata": {
  "kernelspec": {
   "display_name": "Python 3",
   "language": "python",
   "name": "python3"
  },
  "language_info": {
   "codemirror_mode": {
    "name": "ipython",
    "version": 3
   },
   "file_extension": ".py",
   "mimetype": "text/x-python",
   "name": "python",
   "nbconvert_exporter": "python",
   "pygments_lexer": "ipython3",
   "version": "3.6.8"
  }
 },
 "nbformat": 4,
 "nbformat_minor": 2
}
